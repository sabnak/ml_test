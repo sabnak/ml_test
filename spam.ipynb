{
 "cells": [
  {
   "cell_type": "code",
   "execution_count": 1,
   "metadata": {},
   "outputs": [],
   "source": [
    "%matplotlib inline\n",
    "\n",
    "import email.parser\n",
    "import email.policy\n",
    "import os"
   ]
  },
  {
   "cell_type": "code",
   "execution_count": 2,
   "metadata": {},
   "outputs": [],
   "source": [
    "# import os\n",
    "# import tarfile\n",
    "# from six.moves import urllib\n",
    "\n",
    "# DOWNLOAD_ROOT = \"http://spamassassin.apache.org/old/publiccorpus/\"\n",
    "# HAM_URL = DOWNLOAD_ROOT + \"20021010_hard_ham.tar.bz2\"\n",
    "# SPAM_URL = DOWNLOAD_ROOT + \"20050311_spam_2.tar.bz2\"\n",
    "# SPAM_PATH = os.path.join(\"datasets\", \"spam\")\n",
    "\n",
    "# def fetch_spam_data(spam_url=SPAM_URL, spam_path=SPAM_PATH):\n",
    "#     if not os.path.isdir(spam_path):\n",
    "#         os.makedirs(spam_path)\n",
    "#     for filename, url in ((\"hard_ham.tar.bz2\", HAM_URL), (\"spam2.tar.bz2\", SPAM_URL)):\n",
    "#         path = os.path.join(spam_path, filename)\n",
    "#         if not os.path.isfile(path):\n",
    "#             urllib.request.urlretrieve(url, path)\n",
    "#         tar_bz2_file = tarfile.open(path)\n",
    "#         tar_bz2_file.extractall(path=SPAM_PATH)\n",
    "#         tar_bz2_file.close()\n",
    "# fetch_spam_data()"
   ]
  },
  {
   "cell_type": "code",
   "execution_count": 3,
   "metadata": {},
   "outputs": [],
   "source": [
    "SPAM_PATH = os.path.join(\"datasets\", \"spam\")\n",
    "\n",
    "# easy\n",
    "# HAM_DIR  = \"easy_ham\"\n",
    "# SPAM_DIR = \"spam\"\n",
    "# hard\n",
    "HAM_DIR  = \"hard_ham\"\n",
    "SPAM_DIR = \"spam_2\"\n",
    "\n",
    "ham_filenames = [name for name in sorted(os.listdir(os.path.join(SPAM_PATH, HAM_DIR))) if len(name) > 20]\n",
    "spam_filenames = [name for name in sorted(os.listdir(os.path.join(SPAM_PATH, SPAM_DIR))) if len(name) > 20]"
   ]
  },
  {
   "cell_type": "code",
   "execution_count": 4,
   "metadata": {},
   "outputs": [],
   "source": [
    "def load_email(is_spam, filename):\n",
    "    directory = SPAM_DIR if is_spam else HAM_DIR\n",
    "    with open(os.path.join(SPAM_PATH, directory, filename), \"rb\") as f:\n",
    "        return email.parser.BytesParser(policy=email.policy.default).parse(f)"
   ]
  },
  {
   "cell_type": "code",
   "execution_count": 5,
   "metadata": {},
   "outputs": [],
   "source": [
    "ham_emails = [load_email(is_spam=False, filename=name) for name in ham_filenames]\n",
    "spam_emails = [load_email(is_spam=True, filename=name) for name in spam_filenames]"
   ]
  },
  {
   "cell_type": "code",
   "execution_count": 6,
   "metadata": {},
   "outputs": [],
   "source": [
    "import numpy as np\n",
    "from sklearn.model_selection import train_test_split\n",
    "\n",
    "X = np.array(ham_emails + spam_emails)\n",
    "y = np.array([0] * len(ham_emails) + [1] * len(spam_emails))\n",
    "\n",
    "X_train, X_test, y_train, y_test = train_test_split(X, y, test_size=0.2, random_state=42)"
   ]
  },
  {
   "cell_type": "code",
   "execution_count": 7,
   "metadata": {},
   "outputs": [],
   "source": [
    "from sklearn.feature_extraction.text import CountVectorizer, TfidfVectorizer\n"
   ]
  },
  {
   "cell_type": "code",
   "execution_count": 44,
   "metadata": {},
   "outputs": [
    {
     "name": "stdout",
     "output_type": "stream",
     "text": [
      "The autoreload extension is already loaded. To reload it, use:\n",
      "  %reload_ext autoreload\n"
     ]
    }
   ],
   "source": [
    "%load_ext autoreload\n",
    "%autoreload 2\n",
    "\n",
    "from transformer import email_to_text\n",
    "from sklearn.pipeline import make_pipeline\n",
    "from sklearn.linear_model import LogisticRegression\n",
    "\n",
    "full_pl = make_pipeline(\n",
    "    CountVectorizer(\n",
    "        preprocessor=lambda e: email_to_text(e, unify_urls=True, unify_numbers=True),\n",
    "        lowercase=True, \n",
    "        min_df=5,\n",
    "        decode_error=\"replace\"\n",
    "    )\n",
    ")\n"
   ]
  },
  {
   "cell_type": "code",
   "execution_count": 9,
   "metadata": {},
   "outputs": [],
   "source": [
    "# from sklearn.model_selection import GridSearchCV\n",
    "\n",
    "# param_grid = {\n",
    "#     \"countvectorizer__ngram_range\": [(1, 1), (1, 2), (1, 3)]\n",
    "# }\n",
    "\n",
    "# grid = GridSearchCV(full_pl, param_grid)\n",
    "# grid.fit(X_train, y_train)\n",
    "\n",
    "# print(\"Наилучшее значение проверки: {:.2f}\".format(grid.best_score_))\n",
    "# print(\"Наилучшие параметры:\\n{}\".format(grid.best_params_))"
   ]
  },
  {
   "cell_type": "code",
   "execution_count": 10,
   "metadata": {},
   "outputs": [],
   "source": [
    "X_train_transformed = full_pl.fit_transform(X_train)"
   ]
  },
  {
   "cell_type": "code",
   "execution_count": 11,
   "metadata": {},
   "outputs": [
    {
     "name": "stdout",
     "output_type": "stream",
     "text": [
      "Всего признаков: 8046\n"
     ]
    }
   ],
   "source": [
    "count_vectorizer = full_pl.named_steps['countvectorizer']\n",
    "feature_names = count_vectorizer.get_feature_names()\n",
    "print(\"Всего признаков: {}\".format(len(feature_names)))"
   ]
  },
  {
   "cell_type": "code",
   "execution_count": null,
   "metadata": {},
   "outputs": [],
   "source": []
  },
  {
   "cell_type": "code",
   "execution_count": 12,
   "metadata": {},
   "outputs": [],
   "source": [
    "from sklearn.linear_model import LogisticRegression\n",
    "\n",
    "log_clf = LogisticRegression()\n",
    "log_clf.fit(X_train_transformed, y_train)\n",
    "\n",
    "y_train_pred = log_clf.predict(X_train_transformed)"
   ]
  },
  {
   "cell_type": "code",
   "execution_count": 13,
   "metadata": {},
   "outputs": [
    {
     "name": "stdout",
     "output_type": "stream",
     "text": [
      "Precision: 99.91%\n",
      "Recall: 100.00%\n"
     ]
    }
   ],
   "source": [
    "from sklearn.metrics import precision_score, recall_score\n",
    "\n",
    "print(\"Precision: {:.2f}%\".format(100 * precision_score(y_train, y_train_pred)))\n",
    "print(\"Recall: {:.2f}%\".format(100 * recall_score(y_train, y_train_pred)))"
   ]
  },
  {
   "cell_type": "code",
   "execution_count": null,
   "metadata": {},
   "outputs": [],
   "source": []
  },
  {
   "cell_type": "code",
   "execution_count": 14,
   "metadata": {},
   "outputs": [],
   "source": [
    "X_test_transformed = full_pl.transform(X_test)"
   ]
  },
  {
   "cell_type": "code",
   "execution_count": 15,
   "metadata": {},
   "outputs": [],
   "source": [
    "y_test_pred = log_clf.predict(X_test_transformed)"
   ]
  },
  {
   "cell_type": "code",
   "execution_count": 16,
   "metadata": {
    "scrolled": true
   },
   "outputs": [
    {
     "name": "stdout",
     "output_type": "stream",
     "text": [
      "Precision: 97.18%\n",
      "Recall: 99.28%\n"
     ]
    }
   ],
   "source": [
    "print(\"Precision: {:.2f}%\".format(100 * precision_score(y_test, y_test_pred)))\n",
    "print(\"Recall: {:.2f}%\".format(100 * recall_score(y_test, y_test_pred)))"
   ]
  },
  {
   "cell_type": "code",
   "execution_count": 17,
   "metadata": {},
   "outputs": [],
   "source": [
    "# Вероятный спам\n",
    "X_test_spam = list(map(email_to_text, X_test[y_test_pred == 1]))\n",
    "\n",
    "# Ложноположительные\n",
    "X_test_fp = list(map(email_to_text, X_test[(y_test_pred == 1) & (y_test == 0)]))\n",
    "\n",
    "# Ложноотрицательные\n",
    "X_test_fn = list(map(email_to_text, X_test[(y_test_pred == 0) & (y_test == 1)]))\n"
   ]
  },
  {
   "cell_type": "code",
   "execution_count": 18,
   "metadata": {},
   "outputs": [
    {
     "name": "stdout",
     "output_type": "stream",
     "text": [
      "Ложноположительных: 8, ложноотрицательных: 2, всего: 284\n"
     ]
    }
   ],
   "source": [
    "print(\"Ложноположительных: {}, ложноотрицательных: {}, всего: {}\".format(len(X_test_fp), len(X_test_fn), len(X_test_spam)))"
   ]
  },
  {
   "cell_type": "code",
   "execution_count": 60,
   "metadata": {},
   "outputs": [
    {
     "data": {
      "image/png": "[encoded data removed]",
      "text/plain": [
       "<Figure size 1080x504 with 1 Axes>"
      ]
     },
     "metadata": {},
     "output_type": "display_data"
    }
   ],
   "source": [
    "%autoreload 2\n",
    "\n",
    "from tools import visualize_coefficients\n",
    "\n",
    "visualize_coefficients(log_clf.coef_, feature_names, n_top_features=30)"
   ]
  },
  {
   "cell_type": "code",
   "execution_count": null,
   "metadata": {},
   "outputs": [],
   "source": []
  },
  {
   "cell_type": "code",
   "execution_count": null,
   "metadata": {},
   "outputs": [],
   "source": []
  }
 ],
 "metadata": {
  "kernelspec": {
   "display_name": "Python 3",
   "language": "python",
   "name": "python3"
  },
  "language_info": {
   "codemirror_mode": {
    "name": "ipython",
    "version": 3
   },
   "file_extension": ".py",
   "mimetype": "text/x-python",
   "name": "python",
   "nbconvert_exporter": "python",
   "pygments_lexer": "ipython3",
   "version": "3.6.5"
  }
 },
 "nbformat": 4,
 "nbformat_minor": 2
}
