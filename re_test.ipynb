{
 "cells": [
  {
   "cell_type": "code",
   "execution_count": 2,
   "metadata": {},
   "outputs": [],
   "source": [
    "from mre import finditer_to_dict, search\n",
    "import pprint"
   ]
  },
  {
   "cell_type": "code",
   "execution_count": 12,
   "metadata": {},
   "outputs": [],
   "source": [
    "pp = pprint.PrettyPrinter(indent=4, width=1000, compact=True)\n",
    "    \n",
    "    \n",
    "    \n",
    "def parse(pattern, data):\n",
    "    it = finditer_to_dict(pattern, data)\n",
    "    res = []\n",
    "    while True:\n",
    "        try:\n",
    "            res.append(it())\n",
    "        except StopIteration:\n",
    "            break\n",
    "    pp.pprint(res)\n",
    "        \n",
    "\n",
    "def find(pattern, data):\n",
    "    res = search(pattern, data)\n",
    "    print(res)"
   ]
  },
  {
   "cell_type": "code",
   "execution_count": 36,
   "metadata": {},
   "outputs": [
    {
     "name": "stdout",
     "output_type": "stream",
     "text": [
      "[{'srcId': 'C4657E3719C36A9B887449087B3F2BA8', 'url': '/PrivatePersonCard.aspx?ID=C4657E3719C36A9B887449087B3F2BA8'}]\n"
     ]
    }
   ],
   "source": [
    "with open('re_test_data.txt', encoding='utf-8') as f:\n",
    "    data = f.read()\n",
    "\n",
    "# (?:<(?!\\/?(?:tr|table))[^>]+>(?:[\\s\\xA0]|&nbsp;)*)+\n",
    "\n",
    "parse(r'/href=\"(?P<url>\\/(?:Organization|PrivatePerson)Card.aspx\\?ID=(?P<srcId>[^\"\\/]+))\"/is', data)    \n",
    "\n"
   ]
  },
  {
   "cell_type": "code",
   "execution_count": 40,
   "metadata": {},
   "outputs": [
    {
     "name": "stdout",
     "output_type": "stream",
     "text": [
      "('<table class=\"au\">\\n\\t<tr id=\"ctl00_cphBody_trShortName\" class=\"row\">\\n\\t\\t<td nowrap=\"nowrap\" style=\"width: 300px\">\\n\\t\\t\\t\\t\\n\\t\\t\\t\\tКраткое наименование\\n\\t\\t\\t</td>\\n\\t\\t<td>\\n\\t\\t\\t\\t<b>\\n\\t\\t\\t\\t\\t<span id=\"ctl00_cphBody_lblShortName\" data-item=\"diff-sign-label\">ООО \"УПМ-ХОЛДИНГ\"</span>\\n\\n\\t\\t\\t\\t</b>\\n\\t\\t\\t</td>\\n\\t</tr>\\n\\t<tr id=\"ctl00_cphBody_trFullName\">\\n\\t\\t<td nowrap=\"nowrap\">\\n\\t\\t\\t\\t\\n\\t\\t\\t\\tПолное наименование\\n\\t\\t\\t</td>\\n\\t\\t<td>\\n\\t\\t\\t\\t<b>\\n\\t\\t\\t\\t\\t<span id=\"ctl00_cphBody_lblFullName\" data-item=\"diff-sign-label\">ОБЩЕСТВО С ОГРАНИЧЕННОЙ ОТВЕТСТВЕННОСТЬЮ \"УДМУРТСКИЙ ПРОМЫШЛЕННО МЕТАЛЛУРГИЧЕСКИЙ ХОЛДИНГ\"</span>\\n\\t\\t\\t\\t</b>\\n\\t\\t\\t</td>\\n\\t</tr>\\n\\t<tr id=\"ctl00_cphBody_trAddress\" class=\"row\">\\n\\t\\t<td nowrap=\"nowrap\">\\n\\t\\t\\t\\t\\n\\t\\t\\t\\tАдрес\\n\\t\\t\\t</td>\\n\\t\\t<td>\\n\\t\\t\\t\\t<b>\\n\\t\\t\\t\\t\\t<span id=\"ctl00_cphBody_lblAddress\" data-item=\"diff-sign-label\">426068, РЕСПУБЛИКА УДМУРТСКАЯ, ГОРОД ИЖЕВСК, УЛИЦА АРХИТЕКТОРА П.П.БЕРША, ДОМ 32, ОФИС 24 КАБИНЕТ 1</span>\\n\\t\\t\\t\\t</b>\\n\\t\\t\\t</td>\\n\\t</tr>\\n\\t<tr id=\"ctl00_cphBody_trPhone\">\\n\\t\\t<td nowrap=\"nowrap\">\\n\\t\\t\\t\\t\\n\\t\\t\\t\\tТелефон\\n\\t\\t\\t</td>\\n\\t\\t<td>\\n\\t\\t\\t\\t<b>\\n\\t\\t\\t\\t\\t<span id=\"ctl00_cphBody_lblPhone\" data-item=\"diff-sign-label\"><font color=\\'Gray\\'>(н/д)</font></span>\\n\\t\\t\\t\\t</b>\\n\\t\\t\\t</td>\\n\\t</tr>\\n\\t<tr id=\"ctl00_cphBody_trRegion\" class=\"row\">\\n\\t\\t<td nowrap=\"nowrap\">\\n\\t\\t\\t\\tРегион ведения дела о банкротстве\\n\\t\\t\\t</td>\\n\\t\\t<td>\\n\\t\\t\\t\\t<b>\\n\\t\\t\\t\\t\\t<span id=\"ctl00_cphBody_lblRegion\">Удмуртская Республика</span>\\n\\t\\t\\t\\t</b>\\n\\t\\t\\t</td>\\n\\t</tr>\\n\\t<tr id=\"ctl00_cphBody_trCategoryName\">\\n\\t\\t<td nowrap=\"nowrap\">Категория должника\\n\\t\\t\\t</td>\\n\\t\\t<td>\\n\\t\\t\\t\\t<b>\\n\\t\\t\\t\\t\\t<span id=\"ctl00_cphBody_lblCategoryName\">Ликвидируемый должник</span>\\n\\t\\t\\t\\t</b>\\n\\t\\t\\t</td>\\n\\t</tr>\\n\\t<tr id=\"ctl00_cphBody_trINN\" class=\"row\">\\n\\t\\t<td nowrap=\"nowrap\">\\n\\t\\t\\t\\t\\n\\t\\t\\t\\tИНН\\n\\t\\t\\t</td>\\n\\t\\t<td>\\n\\t\\t\\t\\t<b>\\n\\t\\t\\t\\t\\t<span id=\"ctl00_cphBody_lblINN\" data-item=\"diff-sign-label\">1833056761</span>\\n\\t\\t\\t\\t</b>\\n\\t\\t\\t</td>\\n\\t</tr>\\n\\t<tr id=\"ctl00_cphBody_trOGRN\">\\n\\t\\t<td nowrap=\"nowrap\">ОГРН\\n\\t\\t\\t</td>\\n\\t\\t<td>\\n\\t\\t\\t\\t<b>\\n\\t\\t\\t\\t\\t<span id=\"ctl00_cphBody_lblOGRN\">1101840003924</span>\\n\\t\\t\\t\\t</b>\\n\\t\\t\\t</td>\\n\\t</tr>\\n\\t<tr id=\"ctl00_cphBody_trOKPO\" class=\"row\">\\n\\t\\t<td nowrap=\"nowrap\">ОКПО\\n\\t\\t\\t</td>\\n\\t\\t<td>\\n\\t\\t\\t\\t<b>\\n\\t\\t\\t\\t\\t<span id=\"ctl00_cphBody_lblOKPO\"><font color=\\'Gray\\'>(н/д)</font></span>\\n\\t\\t\\t\\t</b>\\n\\t\\t\\t</td>\\n\\t</tr>\\n\\t<tr id=\"ctl00_cphBody_trOkopf\">\\n\\t\\t<td nowrap=\"nowrap\">\\n\\t\\t\\t\\t\\n\\t\\t\\t\\tОрганизационно-правовая форма\\n\\t\\t\\t</td>\\n\\t\\t<td>\\n\\t\\t\\t\\t<b>\\n\\t\\t\\t\\t\\t<span id=\"ctl00_cphBody_lblOkopf\" data-item=\"diff-sign-label\">Общества с ограниченной ответственностью</span>\\n\\t\\t\\t\\t</b>\\n\\t\\t\\t</td>\\n\\t</tr>\\n</table>',)\n"
     ]
    }
   ],
   "source": [
    "with open('re_test_data.txt', encoding='utf-8') as f:\n",
    "    data = f.read()\n",
    "\n",
    "find(r'/Карточка должника[^<]*(?:<(?!\\/?(?:tr|table))[^>]+>(?:[\\s\\xA0]|&nbsp;)*)+(.+?<\\/table>)/is', data)"
   ]
  },
  {
   "cell_type": "code",
   "execution_count": 38,
   "metadata": {},
   "outputs": [
    {
     "data": {
      "text/plain": [
       "[1]"
      ]
     },
     "execution_count": 38,
     "metadata": {},
     "output_type": "execute_result"
    }
   ],
   "source": [
    "a = [1,2]\n",
    "a[0:1]"
   ]
  },
  {
   "cell_type": "code",
   "execution_count": null,
   "metadata": {},
   "outputs": [],
   "source": []
  }
 ],
 "metadata": {
  "kernelspec": {
   "display_name": "Python 3",
   "language": "python",
   "name": "python3"
  },
  "language_info": {
   "codemirror_mode": {
    "name": "ipython",
    "version": 3
   },
   "file_extension": ".py",
   "mimetype": "text/x-python",
   "name": "python",
   "nbconvert_exporter": "python",
   "pygments_lexer": "ipython3",
   "version": "3.7.5"
  }
 },
 "nbformat": 4,
 "nbformat_minor": 2
}
