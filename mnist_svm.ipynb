{
 "cells": [
  {
   "cell_type": "code",
   "execution_count": 1,
   "metadata": {},
   "outputs": [],
   "source": [
    "import numpy as np"
   ]
  },
  {
   "cell_type": "code",
   "execution_count": 2,
   "metadata": {},
   "outputs": [
    {
     "data": {
      "text/plain": [
       "{'DESCR': 'mldata.org dataset: mnist-original',\n",
       " 'COL_NAMES': ['label', 'data'],\n",
       " 'target': array([ 0.,  0.,  0., ...,  9.,  9.,  9.]),\n",
       " 'data': array([[0, 0, 0, ..., 0, 0, 0],\n",
       "        [0, 0, 0, ..., 0, 0, 0],\n",
       "        [0, 0, 0, ..., 0, 0, 0],\n",
       "        ..., \n",
       "        [0, 0, 0, ..., 0, 0, 0],\n",
       "        [0, 0, 0, ..., 0, 0, 0],\n",
       "        [0, 0, 0, ..., 0, 0, 0]], dtype=uint8)}"
      ]
     },
     "execution_count": 2,
     "metadata": {},
     "output_type": "execute_result"
    }
   ],
   "source": [
    "from sklearn.datasets import fetch_mldata\n",
    "\n",
    "mnist = fetch_mldata(\"MNIST original\")\n",
    "mnist"
   ]
  },
  {
   "cell_type": "code",
   "execution_count": 3,
   "metadata": {},
   "outputs": [],
   "source": [
    "X, y = mnist[\"data\"], mnist[\"target\"]\n",
    "\n",
    "X_train = X[:60000]\n",
    "y_train = y[:60000]\n",
    "X_test = X[60000:]\n",
    "y_test = y[60000:]"
   ]
  },
  {
   "cell_type": "code",
   "execution_count": 4,
   "metadata": {},
   "outputs": [],
   "source": [
    "shuffle_index = np.random.permutation(60000)\n",
    "X_train, y_train = X_train[shuffle_index], y_train[shuffle_index]"
   ]
  },
  {
   "cell_type": "code",
   "execution_count": 9,
   "metadata": {},
   "outputs": [],
   "source": [
    "from sklearn.pipeline import make_pipeline\n",
    "from sklearn.preprocessing import StandardScaler\n",
    "\n",
    "scaler = StandardScaler()\n",
    "X_train = scaler.fit_transform(X_train.astype(np.float32))\n",
    "X_test = scaler.transform(X_test.astype(np.float32))\n"
   ]
  },
  {
   "cell_type": "code",
   "execution_count": 6,
   "metadata": {},
   "outputs": [],
   "source": [
    "from sklearn.model_selection import RandomizedSearchCV\n",
    "from sklearn.svm import SVC\n",
    "from sklearn.multiclass import OneVsRestClassifier"
   ]
  },
  {
   "cell_type": "code",
   "execution_count": 19,
   "metadata": {},
   "outputs": [],
   "source": [
    "svm_clf = SVC(decision_function_shape=\"ovr\")"
   ]
  },
  {
   "cell_type": "code",
   "execution_count": 31,
   "metadata": {},
   "outputs": [
    {
     "name": "stdout",
     "output_type": "stream",
     "text": [
      "Fitting 3 folds for each of 10 candidates, totalling 30 fits\n",
      "[CV] C=3.77214563707, gamma=0.00241566259991 .........................\n",
      "[CV] .......... C=3.77214563707, gamma=0.00241566259991, total=   0.7s\n",
      "[CV] C=3.77214563707, gamma=0.00241566259991 .........................\n"
     ]
    },
    {
     "name": "stderr",
     "output_type": "stream",
     "text": [
      "[Parallel(n_jobs=1)]: Done   1 out of   1 | elapsed:    1.0s remaining:    0.0s\n"
     ]
    },
    {
     "name": "stdout",
     "output_type": "stream",
     "text": [
      "[CV] .......... C=3.77214563707, gamma=0.00241566259991, total=   0.7s\n",
      "[CV] C=3.77214563707, gamma=0.00241566259991 .........................\n",
      "[CV] .......... C=3.77214563707, gamma=0.00241566259991, total=   0.6s\n",
      "[CV] C=4.275568745, gamma=0.0292781767635 ............................\n",
      "[CV] ............. C=4.275568745, gamma=0.0292781767635, total=   0.8s\n",
      "[CV] C=4.275568745, gamma=0.0292781767635 ............................\n",
      "[CV] ............. C=4.275568745, gamma=0.0292781767635, total=   0.8s\n",
      "[CV] C=4.275568745, gamma=0.0292781767635 ............................\n",
      "[CV] ............. C=4.275568745, gamma=0.0292781767635, total=   0.8s\n",
      "[CV] C=9.44610153524, gamma=0.0441328306453 ..........................\n",
      "[CV] ........... C=9.44610153524, gamma=0.0441328306453, total=   0.8s\n",
      "[CV] C=9.44610153524, gamma=0.0441328306453 ..........................\n",
      "[CV] ........... C=9.44610153524, gamma=0.0441328306453, total=   0.8s\n",
      "[CV] C=9.44610153524, gamma=0.0441328306453 ..........................\n",
      "[CV] ........... C=9.44610153524, gamma=0.0441328306453, total=   0.8s\n",
      "[CV] C=3.725355301, gamma=0.00121656131518 ...........................\n",
      "[CV] ............ C=3.725355301, gamma=0.00121656131518, total=   0.5s\n",
      "[CV] C=3.725355301, gamma=0.00121656131518 ...........................\n",
      "[CV] ............ C=3.725355301, gamma=0.00121656131518, total=   0.5s\n",
      "[CV] C=3.725355301, gamma=0.00121656131518 ...........................\n",
      "[CV] ............ C=3.725355301, gamma=0.00121656131518, total=   0.6s\n",
      "[CV] C=5.1542165991, gamma=0.007658957034 ............................\n",
      "[CV] ............. C=5.1542165991, gamma=0.007658957034, total=   0.8s\n",
      "[CV] C=5.1542165991, gamma=0.007658957034 ............................\n",
      "[CV] ............. C=5.1542165991, gamma=0.007658957034, total=   0.8s\n",
      "[CV] C=5.1542165991, gamma=0.007658957034 ............................\n",
      "[CV] ............. C=5.1542165991, gamma=0.007658957034, total=   0.8s\n",
      "[CV] C=3.27511645003, gamma=0.00134339210956 .........................\n",
      "[CV] .......... C=3.27511645003, gamma=0.00134339210956, total=   0.6s\n",
      "[CV] C=3.27511645003, gamma=0.00134339210956 .........................\n",
      "[CV] .......... C=3.27511645003, gamma=0.00134339210956, total=   0.6s\n",
      "[CV] C=3.27511645003, gamma=0.00134339210956 .........................\n",
      "[CV] .......... C=3.27511645003, gamma=0.00134339210956, total=   0.6s\n",
      "[CV] C=4.70618994119, gamma=0.00810224499322 .........................\n",
      "[CV] .......... C=4.70618994119, gamma=0.00810224499322, total=   0.7s\n",
      "[CV] C=4.70618994119, gamma=0.00810224499322 .........................\n",
      "[CV] .......... C=4.70618994119, gamma=0.00810224499322, total=   0.8s\n",
      "[CV] C=4.70618994119, gamma=0.00810224499322 .........................\n",
      "[CV] .......... C=4.70618994119, gamma=0.00810224499322, total=   0.8s\n",
      "[CV] C=1.97847451406, gamma=0.0271846857381 ..........................\n",
      "[CV] ........... C=1.97847451406, gamma=0.0271846857381, total=   0.9s\n",
      "[CV] C=1.97847451406, gamma=0.0271846857381 ..........................\n",
      "[CV] ........... C=1.97847451406, gamma=0.0271846857381, total=   0.8s\n",
      "[CV] C=1.97847451406, gamma=0.0271846857381 ..........................\n",
      "[CV] ........... C=1.97847451406, gamma=0.0271846857381, total=   0.8s\n",
      "[CV] C=10.3838228551, gamma=0.00234852479388 .........................\n",
      "[CV] .......... C=10.3838228551, gamma=0.00234852479388, total=   0.7s\n",
      "[CV] C=10.3838228551, gamma=0.00234852479388 .........................\n",
      "[CV] .......... C=10.3838228551, gamma=0.00234852479388, total=   0.6s\n",
      "[CV] C=10.3838228551, gamma=0.00234852479388 .........................\n",
      "[CV] .......... C=10.3838228551, gamma=0.00234852479388, total=   0.7s\n",
      "[CV] C=4.69916043806, gamma=0.052164860801 ...........................\n",
      "[CV] ............ C=4.69916043806, gamma=0.052164860801, total=   0.8s\n",
      "[CV] C=4.69916043806, gamma=0.052164860801 ...........................\n",
      "[CV] ............ C=4.69916043806, gamma=0.052164860801, total=   0.8s\n",
      "[CV] C=4.69916043806, gamma=0.052164860801 ...........................\n",
      "[CV] ............ C=4.69916043806, gamma=0.052164860801, total=   0.8s\n"
     ]
    },
    {
     "name": "stderr",
     "output_type": "stream",
     "text": [
      "[Parallel(n_jobs=1)]: Done  30 out of  30 | elapsed:   35.7s finished\n"
     ]
    },
    {
     "data": {
      "text/plain": [
       "RandomizedSearchCV(cv=None, error_score='raise',\n",
       "          estimator=SVC(C=1.0, cache_size=200, class_weight=None, coef0=0.0,\n",
       "  decision_function_shape='ovr', degree=3, gamma='auto', kernel='rbf',\n",
       "  max_iter=-1, probability=False, random_state=None, shrinking=True,\n",
       "  tol=0.001, verbose=False),\n",
       "          fit_params=None, iid=True, n_iter=10, n_jobs=1,\n",
       "          param_distributions={'gamma': <scipy.stats._distn_infrastructure.rv_frozen object at 0x00FBB2F0>, 'C': <scipy.stats._distn_infrastructure.rv_frozen object at 0x00FBB630>},\n",
       "          pre_dispatch='2*n_jobs', random_state=None, refit=True,\n",
       "          return_train_score='warn', scoring=None, verbose=2)"
      ]
     },
     "execution_count": 31,
     "metadata": {},
     "output_type": "execute_result"
    }
   ],
   "source": [
    "from scipy.stats import reciprocal, uniform\n",
    "\n",
    "param_distributions = {\"gamma\": reciprocal(0.001, 0.1), \"C\": uniform(1, 10)}\n",
    "rnd_search_cv = RandomizedSearchCV(svm_clf, param_distributions, verbose=2)\n",
    "rnd_search_cv.fit(X_train[:1000], y_train[:1000])"
   ]
  },
  {
   "cell_type": "code",
   "execution_count": 22,
   "metadata": {},
   "outputs": [
    {
     "data": {
      "text/plain": [
       "SVC(C=3.7416427221809392, cache_size=200, class_weight=None, coef0=0.0,\n",
       "  decision_function_shape='ovr', degree=3, gamma=0.0017640368690158145,\n",
       "  kernel='rbf', max_iter=-1, probability=False, random_state=None,\n",
       "  shrinking=True, tol=0.001, verbose=False)"
      ]
     },
     "execution_count": 22,
     "metadata": {},
     "output_type": "execute_result"
    }
   ],
   "source": [
    "rnd_search_cv.best_estimator_"
   ]
  },
  {
   "cell_type": "code",
   "execution_count": 35,
   "metadata": {},
   "outputs": [
    {
     "data": {
      "text/plain": [
       "SVC(C=3.2751164500303753, cache_size=200, class_weight=None, coef0=0.0,\n",
       "  decision_function_shape='ovr', degree=3, gamma=0.0013433921095616333,\n",
       "  kernel='rbf', max_iter=-1, probability=False, random_state=None,\n",
       "  shrinking=True, tol=0.001, verbose=False)"
      ]
     },
     "execution_count": 35,
     "metadata": {},
     "output_type": "execute_result"
    }
   ],
   "source": [
    "rnd_search_cv.best_estimator_.fit(X_train, y_train)"
   ]
  },
  {
   "cell_type": "code",
   "execution_count": 36,
   "metadata": {},
   "outputs": [],
   "source": [
    "from sklearn.metrics import accuracy_score"
   ]
  },
  {
   "cell_type": "code",
   "execution_count": 38,
   "metadata": {},
   "outputs": [],
   "source": [
    "y_pred = rnd_search_cv.best_estimator_.predict(X_train)"
   ]
  },
  {
   "cell_type": "code",
   "execution_count": 39,
   "metadata": {},
   "outputs": [
    {
     "data": {
      "text/plain": [
       "0.99550000000000005"
      ]
     },
     "execution_count": 39,
     "metadata": {},
     "output_type": "execute_result"
    }
   ],
   "source": [
    "accuracy_score(y_pred, y_train)"
   ]
  },
  {
   "cell_type": "code",
   "execution_count": null,
   "metadata": {},
   "outputs": [],
   "source": []
  }
 ],
 "metadata": {
  "kernelspec": {
   "display_name": "Python 3",
   "language": "python",
   "name": "python3"
  },
  "language_info": {
   "codemirror_mode": {
    "name": "ipython",
    "version": 3
   },
   "file_extension": ".py",
   "mimetype": "text/x-python",
   "name": "python",
   "nbconvert_exporter": "python",
   "pygments_lexer": "ipython3",
   "version": "3.6.3"
  }
 },
 "nbformat": 4,
 "nbformat_minor": 2
}
